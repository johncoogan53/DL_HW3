{
 "cells": [
  {
   "cell_type": "raw",
   "metadata": {
    "vscode": {
     "languageId": "raw"
    }
   },
   "source": [
    "---\n",
    "title: \"ECE 661: Homework #3\"\n",
    "subtitle: \"RNN and Transformers\"\n",
    "author: \"John Coogan\"\n",
    "date: \"2024-10-20\"\n",
    "abstract: \"This homework will explore the use of RNNs and Transformers for sequence modeling.\"\n",
    "format:\n",
    "  pdf:\n",
    "    toc: true\n",
    "    number-sections: true\n",
    "    colorlinks: true\n",
    "    fontsize: 12pt\n",
    "    mainfont: \"Times New Roman\"\n",
    "    sansfont: \"Arial\"\n",
    "    monofont: \"Times New Roman\"\n",
    "    geometry:\n",
    "      - top=30mm\n",
    "      - left=20mm\n",
    "      - right=20mm\n",
    "      - bottom=30mm\n",
    "    fig-width: 6\n",
    "    fig-height: 4\n",
    "    fig-pos: \"htbp\"\n",
    "    linestretch: 1.5\n",
    "    pdf-engine: \"D:\\\\texlive\\\\2024\\\\bin\\\\windows\\\\xelatex.exe\"\n",
    "       \n",
    "---"
   ]
  },
  {
   "cell_type": "raw",
   "metadata": {},
   "source": []
  }
 ],
 "metadata": {
  "language_info": {
   "name": "python"
  }
 },
 "nbformat": 4,
 "nbformat_minor": 2
}
